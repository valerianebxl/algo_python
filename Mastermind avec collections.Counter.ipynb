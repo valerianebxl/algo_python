{
 "cells": [
  {
   "cell_type": "markdown",
   "id": "08e823fb",
   "metadata": {},
   "source": [
    "## Mastermind"
   ]
  },
  {
   "cell_type": "markdown",
   "id": "f901584d",
   "metadata": {},
   "source": [
    "### Version intuitive"
   ]
  },
  {
   "cell_type": "markdown",
   "id": "13196de1",
   "metadata": {},
   "source": [
    "https://youtu.be/bxHCZi26Ehw"
   ]
  },
  {
   "cell_type": "code",
   "execution_count": 1,
   "id": "cd092edd",
   "metadata": {},
   "outputs": [],
   "source": [
    "from random import *"
   ]
  },
  {
   "cell_type": "code",
   "execution_count": 6,
   "id": "481e1b68",
   "metadata": {},
   "outputs": [],
   "source": [
    "## illustration du mauvais comptage des occurences multiples\n",
    "\n",
    "def mm(nb=10):\n",
    "    code = [randint(1,6) for i in range(4)]\n",
    "    for i in range(nb):\n",
    "        moi = [int(i) for i in input('code :')]\n",
    "        bien = sum(code[i] == moi[i] for i in range(4))\n",
    "        if bien == 4:\n",
    "            return('bravo', code)\n",
    "        mal= len(set(code) & set(moi)) - bien\n",
    "        print('bien :', bien, ', mal :', mal )\n",
    "    return ('perdu', code)"
   ]
  },
  {
   "cell_type": "code",
   "execution_count": 8,
   "id": "c0c4bb99",
   "metadata": {},
   "outputs": [
    {
     "name": "stdout",
     "output_type": "stream",
     "text": [
      "code :1234\n",
      "bien : 0 , mal : 0\n",
      "code :3456\n",
      "bien : 1 , mal : 1\n",
      "code :5656\n",
      "bien : 3 , mal : -1\n",
      "code :5655\n",
      "bien : 2 , mal : 0\n",
      "code :5666\n"
     ]
    },
    {
     "data": {
      "text/plain": [
       "('bravo', [5, 6, 6, 6])"
      ]
     },
     "execution_count": 8,
     "metadata": {},
     "output_type": "execute_result"
    }
   ],
   "source": [
    "mm()"
   ]
  },
  {
   "cell_type": "markdown",
   "id": "deaee751",
   "metadata": {},
   "source": [
    "#### Gestion des Doublons :\n",
    "\n",
    "   En convertissant les listes en ensembles pour calculer les \"mal placés\", le code ignore les occurrences multiples d'une même couleur.\n",
    "    Par exemple, si le code secret est [1, 1, 2, 3] et que le joueur propose [1, 2, 2, 4], l'intersection des ensembles sera {1, 2}, ce qui ne reflète pas correctement les occurrences multiples."
   ]
  },
  {
   "cell_type": "markdown",
   "id": "eed94a7a",
   "metadata": {},
   "source": [
    "### Version correcte"
   ]
  },
  {
   "cell_type": "code",
   "execution_count": null,
   "id": "25def8f8",
   "metadata": {},
   "outputs": [],
   "source": [
    "from collections import Counter"
   ]
  },
  {
   "cell_type": "code",
   "execution_count": 23,
   "id": "22cad7fa",
   "metadata": {},
   "outputs": [],
   "source": [
    "## gestion des occurences multiples\n",
    "\n",
    "def mm(nb=10):\n",
    "    code = [randint(1, 6) for _ in range(4)]\n",
    "    # print(\"Code secret (pour test) :\", code)\n",
    "    for _ in range(nb):\n",
    "        moi = [int(i) for i in input('code: ')]\n",
    "        if len(moi) != 4 or any(c < 1 or c > 6 for c in moi):\n",
    "            print(\"Entrée invalide. Assurez-vous d'entrer exactement 4 chiffres entre 1 et 6.\")\n",
    "            continue\n",
    "        bien = sum(c == m for c, m in zip(code, moi))\n",
    "        if bien == 4:\n",
    "            return 'bravo', code\n",
    "        code_counter = Counter(code)\n",
    "        moi_counter = Counter(moi)\n",
    "        mal = sum((code_counter & moi_counter).values()) - bien\n",
    "        print(f'bien : {bien}, mal : {mal}')\n",
    "    return 'perdu', code"
   ]
  },
  {
   "cell_type": "code",
   "execution_count": 24,
   "id": "e454b9a3",
   "metadata": {},
   "outputs": [
    {
     "name": "stdout",
     "output_type": "stream",
     "text": [
      "code: 1234\n",
      "bien : 1, mal : 1\n",
      "code: 1525\n",
      "bien : 2, mal : 0\n",
      "code: 1626\n"
     ]
    },
    {
     "data": {
      "text/plain": [
       "('bravo', [1, 6, 2, 6])"
      ]
     },
     "execution_count": 24,
     "metadata": {},
     "output_type": "execute_result"
    }
   ],
   "source": [
    "mm(10)"
   ]
  },
  {
   "cell_type": "code",
   "execution_count": 27,
   "id": "e5c276d4",
   "metadata": {},
   "outputs": [
    {
     "name": "stdout",
     "output_type": "stream",
     "text": [
      "code: 1626\n",
      "bien : 0, mal : 1\n",
      "code: 3145\n",
      "bien : 1, mal : 1\n",
      "code: 6136\n",
      "bien : 1, mal : 0\n",
      "code: 4144\n",
      "bien : 1, mal : 0\n",
      "code: 5155\n",
      "bien : 0, mal : 0\n",
      "code: 6454\n",
      "bien : 1, mal : 0\n",
      "code: 3463\n",
      "bien : 1, mal : 2\n",
      "code: 3433\n",
      "bien : 2, mal : 1\n",
      "code: 4333\n",
      "bien : 1, mal : 2\n",
      "code: 3411\n",
      "bien : 1, mal : 1\n"
     ]
    },
    {
     "data": {
      "text/plain": [
       "('perdu', [3, 2, 3, 4])"
      ]
     },
     "execution_count": 27,
     "metadata": {},
     "output_type": "execute_result"
    }
   ],
   "source": [
    "mm(10)"
   ]
  },
  {
   "cell_type": "markdown",
   "id": "886fae2c",
   "metadata": {},
   "source": [
    "https://www.digitalocean.com/community/tutorials/python-counter-python-collections-counter"
   ]
  }
 ],
 "metadata": {
  "kernelspec": {
   "display_name": "Python 3 (ipykernel)",
   "language": "python",
   "name": "python3"
  },
  "language_info": {
   "codemirror_mode": {
    "name": "ipython",
    "version": 3
   },
   "file_extension": ".py",
   "mimetype": "text/x-python",
   "name": "python",
   "nbconvert_exporter": "python",
   "pygments_lexer": "ipython3",
   "version": "3.10.12"
  }
 },
 "nbformat": 4,
 "nbformat_minor": 5
}
